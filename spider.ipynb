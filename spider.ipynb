{
 "cells": [
  {
   "cell_type": "code",
   "execution_count": null,
   "metadata": {},
   "outputs": [],
   "source": [
    "from urllib.request import urlopen\n",
    "import urllib\n",
    "from urllib.error import HTTPError\n",
    "from bs4 import BeautifulSoup\n",
    "import re\n",
    "import os\n",
    "import pandas as pd\n",
    "import numpy as np"
   ]
  },
  {
   "cell_type": "code",
   "execution_count": null,
   "metadata": {
    "tags": []
   },
   "outputs": [],
   "source": [
    "page = 3  # 爬取页数\n",
    "\n",
    "titleList = []\n",
    "yearList = []\n",
    "imgList = []\n",
    "artistList = []\n",
    "\n",
    "# 爬取艺术品名称、创作年份、作者\n",
    "for a in range(1,page):\n",
    "    url = 'https://www.wikiart.org/?json=2&layout=new&param=featured&layout=new&page='+str(a)+'&resultType=masonry'\n",
    "    html = urlopen(url).read().decode('utf-8')\n",
    "    soap = BeautifulSoup(html, 'html.parser')\n",
    "    data = soap.__str__()\n",
    "    titleList += re.findall(r'title\":\"(.*?)\"', data)\n",
    "    yearList += re.findall(r'year\":\"(.*?)\"', data)\n",
    "    imgList += re.findall(r'image\":\"(.*?)\"', data)\n",
    "    artistList += re.findall(r'artistName\":\"(.*?)\"', data)\n"
   ]
  },
  {
   "cell_type": "code",
   "execution_count": null,
   "metadata": {
    "tags": []
   },
   "outputs": [],
   "source": [
    "# 打印作品信息\n",
    "for i in range(0,len(titleList)):\n",
    "    print('id:'+str(i).ljust(5)+'title:'+titleList[i].ljust(50)+'\\t'+'year:'+yearList[i].ljust(15)+'\\t'+'artist:'+artistList[i].ljust(20))"
   ]
  },
  {
   "cell_type": "code",
   "execution_count": null,
   "metadata": {
    "tags": []
   },
   "outputs": [],
   "source": [
    "# 储存作品信息\n",
    "wikiData=[titleList,yearList,artistList,imgList]\n",
    "wikiData = pd.DataFrame(wikiData).T\n",
    "\n",
    "name=['title','year','artist','img link']\n",
    "wikiData.columns = name\n",
    "print(wikiData)\n",
    "wikiData.to_csv('wikiart.csv',encoding='utf8')\n",
    "\n"
   ]
  },
  {
   "cell_type": "code",
   "execution_count": null,
   "metadata": {
    "tags": []
   },
   "outputs": [],
   "source": [
    "# 下载图片\n",
    "filePath = \"images/\"\n",
    "if not os.path.exists(filePath):\n",
    "            os.makedirs(filePath)\n",
    "for i in range(0,len(titleList)):\n",
    "    imgURL = imgList[i]\n",
    "    try:\n",
    "        urllib.request.urlretrieve(imgList[i],'./images/'+titleList[i]+'.jpg')\n",
    "        print('图片 '+titleList[i]+' 下载完成')\n",
    "    except Exception as e:\n",
    "        print('图片 '+titleList[i]+' 下载失败')"
   ]
  },
  {
   "cell_type": "code",
   "execution_count": null,
   "metadata": {},
   "outputs": [],
   "source": []
  }
 ],
 "metadata": {
  "language_info": {
   "codemirror_mode": {
    "name": "ipython",
    "version": 3
   },
   "file_extension": ".py",
   "mimetype": "text/x-python",
   "name": "python",
   "nbconvert_exporter": "python",
   "pygments_lexer": "ipython3",
   "version": 3
  },
  "orig_nbformat": 2,
  "kernelspec": {
   "name": "python_defaultSpec_1593861945182",
   "display_name": "Python 3.7.7 64-bit ('AI': conda)"
  }
 },
 "nbformat": 4,
 "nbformat_minor": 2
}